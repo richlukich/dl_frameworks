{
  "nbformat": 4,
  "nbformat_minor": 0,
  "metadata": {
    "colab": {
      "provenance": [],
      "gpuType": "T4"
    },
    "kernelspec": {
      "name": "python3",
      "display_name": "Python 3"
    },
    "language_info": {
      "name": "python"
    },
    "accelerator": "GPU"
  },
  "cells": [
    {
      "cell_type": "code",
      "execution_count": 1,
      "metadata": {
        "colab": {
          "base_uri": "https://localhost:8080/"
        },
        "id": "RqWHNX9FadvF",
        "outputId": "4f1237f2-a0b1-4789-cb4f-4560e4fc8c51"
      },
      "outputs": [
        {
          "output_type": "stream",
          "name": "stdout",
          "text": [
            "Cloning into 'dl_frameworks'...\n",
            "remote: Enumerating objects: 19, done.\u001b[K\n",
            "remote: Counting objects: 100% (19/19), done.\u001b[K\n",
            "remote: Compressing objects: 100% (19/19), done.\u001b[K\n",
            "remote: Total 19 (delta 4), reused 9 (delta 0), pack-reused 0 (from 0)\u001b[K\n",
            "Receiving objects: 100% (19/19), 11.65 KiB | 2.91 MiB/s, done.\n",
            "Resolving deltas: 100% (4/4), done.\n"
          ]
        }
      ],
      "source": [
        "!git clone https://github.com/richlukich/dl_frameworks"
      ]
    },
    {
      "cell_type": "code",
      "source": [
        "%cd dl_frameworks/SR"
      ],
      "metadata": {
        "colab": {
          "base_uri": "https://localhost:8080/"
        },
        "id": "R-PMeMgCae-y",
        "outputId": "b40f54b4-bee8-4bbd-effe-78e785d4b9c0"
      },
      "execution_count": 2,
      "outputs": [
        {
          "output_type": "stream",
          "name": "stdout",
          "text": [
            "/content/dl_frameworks/SR\n"
          ]
        }
      ]
    },
    {
      "cell_type": "code",
      "source": [
        "import kagglehub\n",
        "\n",
        "# Download latest version\n",
        "path = kagglehub.dataset_download(\"joe1995/div2k-dataset\")\n",
        "\n",
        "print(\"Path to dataset files:\", path)"
      ],
      "metadata": {
        "colab": {
          "base_uri": "https://localhost:8080/"
        },
        "id": "E4pd1T89a1Vs",
        "outputId": "ce4dd69a-48c8-46c9-8a4a-835148328912"
      },
      "execution_count": 3,
      "outputs": [
        {
          "output_type": "stream",
          "name": "stdout",
          "text": [
            "Warning: Looks like you're using an outdated `kagglehub` version (installed: 0.3.5), please consider upgrading to the latest version (0.3.6).\n",
            "Downloading from https://www.kaggle.com/api/v1/datasets/download/joe1995/div2k-dataset?dataset_version_number=1...\n"
          ]
        },
        {
          "output_type": "stream",
          "name": "stderr",
          "text": [
            "100%|██████████| 3.71G/3.71G [03:06<00:00, 21.3MB/s]"
          ]
        },
        {
          "output_type": "stream",
          "name": "stdout",
          "text": [
            "Extracting files...\n"
          ]
        },
        {
          "output_type": "stream",
          "name": "stderr",
          "text": [
            "\n"
          ]
        },
        {
          "output_type": "stream",
          "name": "stdout",
          "text": [
            "Path to dataset files: /root/.cache/kagglehub/datasets/joe1995/div2k-dataset/versions/1\n"
          ]
        }
      ]
    },
    {
      "cell_type": "code",
      "source": [
        "!ls /root/.cache/kagglehub/datasets/joe1995/div2k-dataset/versions/1"
      ],
      "metadata": {
        "colab": {
          "base_uri": "https://localhost:8080/"
        },
        "id": "qeSHSkvQ5PrN",
        "outputId": "fdd9556e-be11-4e32-97c4-fc3d14553d53"
      },
      "execution_count": 4,
      "outputs": [
        {
          "output_type": "stream",
          "name": "stdout",
          "text": [
            "DIV2K_train_HR\tDIV2K_valid_HR\n"
          ]
        }
      ]
    },
    {
      "cell_type": "code",
      "source": [
        "!pip install lpips"
      ],
      "metadata": {
        "colab": {
          "base_uri": "https://localhost:8080/"
        },
        "id": "FH3ukC5mcZsr",
        "outputId": "270f6157-ae82-41cb-d2e4-0b3567bb94c0"
      },
      "execution_count": 6,
      "outputs": [
        {
          "output_type": "stream",
          "name": "stdout",
          "text": [
            "Collecting lpips\n",
            "  Downloading lpips-0.1.4-py3-none-any.whl.metadata (10 kB)\n",
            "Requirement already satisfied: torch>=0.4.0 in /usr/local/lib/python3.10/dist-packages (from lpips) (2.5.1+cu121)\n",
            "Requirement already satisfied: torchvision>=0.2.1 in /usr/local/lib/python3.10/dist-packages (from lpips) (0.20.1+cu121)\n",
            "Requirement already satisfied: numpy>=1.14.3 in /usr/local/lib/python3.10/dist-packages (from lpips) (1.26.4)\n",
            "Requirement already satisfied: scipy>=1.0.1 in /usr/local/lib/python3.10/dist-packages (from lpips) (1.13.1)\n",
            "Requirement already satisfied: tqdm>=4.28.1 in /usr/local/lib/python3.10/dist-packages (from lpips) (4.67.1)\n",
            "Requirement already satisfied: filelock in /usr/local/lib/python3.10/dist-packages (from torch>=0.4.0->lpips) (3.16.1)\n",
            "Requirement already satisfied: typing-extensions>=4.8.0 in /usr/local/lib/python3.10/dist-packages (from torch>=0.4.0->lpips) (4.12.2)\n",
            "Requirement already satisfied: networkx in /usr/local/lib/python3.10/dist-packages (from torch>=0.4.0->lpips) (3.4.2)\n",
            "Requirement already satisfied: jinja2 in /usr/local/lib/python3.10/dist-packages (from torch>=0.4.0->lpips) (3.1.4)\n",
            "Requirement already satisfied: fsspec in /usr/local/lib/python3.10/dist-packages (from torch>=0.4.0->lpips) (2024.10.0)\n",
            "Requirement already satisfied: sympy==1.13.1 in /usr/local/lib/python3.10/dist-packages (from torch>=0.4.0->lpips) (1.13.1)\n",
            "Requirement already satisfied: mpmath<1.4,>=1.1.0 in /usr/local/lib/python3.10/dist-packages (from sympy==1.13.1->torch>=0.4.0->lpips) (1.3.0)\n",
            "Requirement already satisfied: pillow!=8.3.*,>=5.3.0 in /usr/local/lib/python3.10/dist-packages (from torchvision>=0.2.1->lpips) (11.0.0)\n",
            "Requirement already satisfied: MarkupSafe>=2.0 in /usr/local/lib/python3.10/dist-packages (from jinja2->torch>=0.4.0->lpips) (3.0.2)\n",
            "Downloading lpips-0.1.4-py3-none-any.whl (53 kB)\n",
            "\u001b[?25l   \u001b[90m━━━━━━━━━━━━━━━━━━━━━━━━━━━━━━━━━━━━━━━━\u001b[0m \u001b[32m0.0/53.8 kB\u001b[0m \u001b[31m?\u001b[0m eta \u001b[36m-:--:--\u001b[0m\r\u001b[2K   \u001b[90m━━━━━━━━━━━━━━━━━━━━━━━━━━━━━━━━━━━━━━━━\u001b[0m \u001b[32m53.8/53.8 kB\u001b[0m \u001b[31m4.9 MB/s\u001b[0m eta \u001b[36m0:00:00\u001b[0m\n",
            "\u001b[?25hInstalling collected packages: lpips\n",
            "Successfully installed lpips-0.1.4\n"
          ]
        }
      ]
    },
    {
      "cell_type": "code",
      "source": [
        "!python main.py"
      ],
      "metadata": {
        "colab": {
          "base_uri": "https://localhost:8080/"
        },
        "id": "byNGRLlGcCpf",
        "outputId": "934ac33a-e5f4-4210-a947-a4dda6e349ce"
      },
      "execution_count": 7,
      "outputs": [
        {
          "output_type": "stream",
          "name": "stdout",
          "text": [
            "Using device: cuda\n",
            "Downloading: \"https://download.pytorch.org/models/vgg19-dcbb9e9d.pth\" to ../code/hub/checkpoints/vgg19-dcbb9e9d.pth\n",
            "100% 548M/548M [00:04<00:00, 138MB/s]\n",
            "\u001b[34m\u001b[1mwandb\u001b[0m: Using wandb-core as the SDK backend.  Please refer to https://wandb.me/wandb-core for more information.\n",
            "\u001b[34m\u001b[1mwandb\u001b[0m: (1) Create a W&B account\n",
            "\u001b[34m\u001b[1mwandb\u001b[0m: (2) Use an existing W&B account\n",
            "\u001b[34m\u001b[1mwandb\u001b[0m: (3) Don't visualize my results\n",
            "\u001b[34m\u001b[1mwandb\u001b[0m: Enter your choice: 2\n",
            "\u001b[34m\u001b[1mwandb\u001b[0m: You chose 'Use an existing W&B account'\n",
            "\u001b[34m\u001b[1mwandb\u001b[0m: Logging into wandb.ai. (Learn how to deploy a W&B server locally: https://wandb.me/wandb-server)\n",
            "\u001b[34m\u001b[1mwandb\u001b[0m: You can find your API key in your browser here: https://wandb.ai/authorize\n",
            "\u001b[34m\u001b[1mwandb\u001b[0m: Paste an API key from your profile and hit enter, or press ctrl+c to quit: \n",
            "\u001b[34m\u001b[1mwandb\u001b[0m: Appending key for api.wandb.ai to your netrc file: /root/.netrc\n",
            "\u001b[34m\u001b[1mwandb\u001b[0m: Tracking run with wandb version 0.19.1\n",
            "\u001b[34m\u001b[1mwandb\u001b[0m: Run data is saved locally in \u001b[35m\u001b[1m/content/dl_frameworks/SR/wandb/run-20241223_024616-gfa7h93w\u001b[0m\n",
            "\u001b[34m\u001b[1mwandb\u001b[0m: Run \u001b[1m`wandb offline`\u001b[0m to turn off syncing.\n",
            "\u001b[34m\u001b[1mwandb\u001b[0m: Syncing run \u001b[33mtraining_run\u001b[0m\n",
            "\u001b[34m\u001b[1mwandb\u001b[0m: ⭐️ View project at \u001b[34m\u001b[4mhttps://wandb.ai/lukavetoshkin/super_resolution\u001b[0m\n",
            "\u001b[34m\u001b[1mwandb\u001b[0m: 🚀 View run at \u001b[34m\u001b[4mhttps://wandb.ai/lukavetoshkin/super_resolution/runs/gfa7h93w\u001b[0m\n",
            "Setting up [LPIPS] perceptual loss: trunk [alex], v[0.1], spatial [off]\n",
            "Downloading: \"https://download.pytorch.org/models/alexnet-owt-7be5be79.pth\" to ../code/hub/checkpoints/alexnet-owt-7be5be79.pth\n",
            "100% 233M/233M [00:01<00:00, 164MB/s]\n",
            "Loading model from: /usr/local/lib/python3.10/dist-packages/lpips/weights/v0.1/alex.pth\n",
            "Epoch: 1: 100% 267/267 [10:14<00:00,  2.30s/it]\n",
            "34it [00:50,  1.49s/it]\n",
            "WARNING:root:Images sizes do not match. This will causes images to be display incorrectly in the UI.\n",
            "Intermediate weights saved\n",
            "Epoch: 1/100: Found best loss, weights saved !\n",
            "\n",
            "Epoch: 1/100: Time taken: 665.6834239959717\n",
            "Epoch: 1/100: Train Generator Loss: 2.3355\n",
            "Epoch: 1/100: Train Discriminator Loss: 0.3330\n",
            "Epoch: 1/100: Valid PSNR: 21.7372\n",
            "Epoch: 1/100: Valid SSIM: 0.5202\n",
            "------------------------------------------------------------\n",
            "Epoch: 2: 100% 267/267 [10:15<00:00,  2.31s/it]\n",
            "34it [00:52,  1.55s/it]\n",
            "WARNING:root:Images sizes do not match. This will causes images to be display incorrectly in the UI.\n",
            "Epoch: 2/100: Found best loss, weights saved !\n",
            "\n",
            "Epoch: 2/100: Time taken: 668.6379055976868\n",
            "Epoch: 2/100: Train Generator Loss: 2.1573\n",
            "Epoch: 2/100: Train Discriminator Loss: 0.0535\n",
            "Epoch: 2/100: Valid PSNR: 21.9099\n",
            "Epoch: 2/100: Valid SSIM: 0.5572\n",
            "------------------------------------------------------------\n",
            "Epoch: 3: 100% 267/267 [10:13<00:00,  2.30s/it]\n",
            "34it [00:52,  1.56s/it]\n",
            "WARNING:root:Images sizes do not match. This will causes images to be display incorrectly in the UI.\n",
            "Epoch: 3/100: Found best loss, weights saved !\n",
            "\n",
            "Epoch: 3/100: Time taken: 666.0947332382202\n",
            "Epoch: 3/100: Train Generator Loss: 2.1305\n",
            "Epoch: 3/100: Train Discriminator Loss: 0.0347\n",
            "Epoch: 3/100: Valid PSNR: 21.9027\n",
            "Epoch: 3/100: Valid SSIM: 0.5654\n",
            "------------------------------------------------------------\n",
            "Epoch: 4: 100% 267/267 [10:16<00:00,  2.31s/it]\n",
            "34it [00:51,  1.50s/it]\n",
            "WARNING:root:Images sizes do not match. This will causes images to be display incorrectly in the UI.\n",
            "\n",
            "Epoch: 4/100: Time taken: 667.1247868537903\n",
            "Epoch: 4/100: Train Generator Loss: 2.1321\n",
            "Epoch: 4/100: Train Discriminator Loss: 0.0022\n",
            "Epoch: 4/100: Valid PSNR: 21.4511\n",
            "Epoch: 4/100: Valid SSIM: 0.5845\n",
            "------------------------------------------------------------\n",
            "Epoch: 5: 100% 267/267 [10:13<00:00,  2.30s/it]\n",
            "34it [00:49,  1.46s/it]\n",
            "WARNING:root:Images sizes do not match. This will causes images to be display incorrectly in the UI.\n",
            "Epoch: 5/100: Found best loss, weights saved !\n",
            "\n",
            "Epoch: 5/100: Time taken: 663.3810369968414\n",
            "Epoch: 5/100: Train Generator Loss: 2.1109\n",
            "Epoch: 5/100: Train Discriminator Loss: 0.0097\n",
            "Epoch: 5/100: Valid PSNR: 22.7352\n",
            "Epoch: 5/100: Valid SSIM: 0.6049\n",
            "------------------------------------------------------------\n",
            "Epoch: 6: 100% 267/267 [10:12<00:00,  2.30s/it]\n",
            "34it [00:49,  1.47s/it]\n",
            "WARNING:root:Images sizes do not match. This will causes images to be display incorrectly in the UI.\n",
            "Intermediate weights saved\n",
            "Epoch: 6/100: Found best loss, weights saved !\n",
            "\n",
            "Epoch: 6/100: Time taken: 662.9691727161407\n",
            "Epoch: 6/100: Train Generator Loss: 2.0956\n",
            "Epoch: 6/100: Train Discriminator Loss: 0.0199\n",
            "Epoch: 6/100: Valid PSNR: 22.7576\n",
            "Epoch: 6/100: Valid SSIM: 0.6080\n",
            "------------------------------------------------------------\n",
            "Epoch: 7:   5% 14/267 [00:33<10:11,  2.42s/it]\n",
            "Error in sys.excepthook:\n",
            "Traceback (most recent call last):\n",
            "  File \"/usr/lib/python3.10/linecache.py\", line 46, in getlines\n",
            "    return updatecache(filename, module_globals)\n",
            "  File \"/usr/lib/python3.10/linecache.py\", line 136, in updatecache\n",
            "    with tokenize.open(fullname) as fp:\n",
            "  File \"/usr/lib/python3.10/tokenize.py\", line 394, in open\n",
            "    buffer = _builtin_open(filename, 'rb')\n",
            "KeyboardInterrupt\n",
            "\n",
            "Original exception was:\n",
            "Traceback (most recent call last):\n",
            "  File \"/content/dl_frameworks/SR/main.py\", line 239, in <module>\n",
            "    gen_hr = generator(imgs_lr)\n",
            "  File \"/usr/local/lib/python3.10/dist-packages/torch/nn/modules/module.py\", line 1736, in _wrapped_call_impl\n",
            "    return self._call_impl(*args, **kwargs)\n",
            "  File \"/usr/local/lib/python3.10/dist-packages/torch/nn/modules/module.py\", line 1844, in _call_impl\n",
            "    return inner()\n",
            "  File \"/usr/local/lib/python3.10/dist-packages/torch/nn/modules/module.py\", line 1790, in inner\n",
            "    result = forward_call(*args, **kwargs)\n",
            "  File \"/content/dl_frameworks/SR/model.py\", line 137, in forward\n",
            "    out = self.res_blocks(out1)\n",
            "  File \"/usr/local/lib/python3.10/dist-packages/torch/nn/modules/module.py\", line 1736, in _wrapped_call_impl\n",
            "    return self._call_impl(*args, **kwargs)\n",
            "  File \"/usr/local/lib/python3.10/dist-packages/torch/nn/modules/module.py\", line 1747, in _call_impl\n",
            "    return forward_call(*args, **kwargs)\n",
            "  File \"/usr/local/lib/python3.10/dist-packages/torch/nn/modules/container.py\", line 250, in forward\n",
            "    input = module(input)\n",
            "  File \"/usr/local/lib/python3.10/dist-packages/torch/nn/modules/module.py\", line 1736, in _wrapped_call_impl\n",
            "    return self._call_impl(*args, **kwargs)\n",
            "  File \"/usr/local/lib/python3.10/dist-packages/torch/nn/modules/module.py\", line 1747, in _call_impl\n",
            "    return forward_call(*args, **kwargs)\n",
            "  File \"/content/dl_frameworks/SR/model.py\", line 96, in forward\n",
            "    res_x = self.dense_blocks(x).mul(self.res_scale)\n",
            "  File \"/usr/local/lib/python3.10/dist-packages/torch/nn/modules/module.py\", line 1736, in _wrapped_call_impl\n",
            "    return self._call_impl(*args, **kwargs)\n",
            "  File \"/usr/local/lib/python3.10/dist-packages/torch/nn/modules/module.py\", line 1747, in _call_impl\n",
            "    return forward_call(*args, **kwargs)\n",
            "  File \"/usr/local/lib/python3.10/dist-packages/torch/nn/modules/container.py\", line 250, in forward\n",
            "    input = module(input)\n",
            "  File \"/usr/local/lib/python3.10/dist-packages/torch/nn/modules/module.py\", line 1736, in _wrapped_call_impl\n",
            "    return self._call_impl(*args, **kwargs)\n",
            "  File \"/usr/local/lib/python3.10/dist-packages/torch/nn/modules/module.py\", line 1747, in _call_impl\n",
            "    return forward_call(*args, **kwargs)\n",
            "  File \"/content/dl_frameworks/SR/model.py\", line 82, in forward\n",
            "    out = block(inputs)\n",
            "  File \"/usr/local/lib/python3.10/dist-packages/torch/nn/modules/module.py\", line 1736, in _wrapped_call_impl\n",
            "    return self._call_impl(*args, **kwargs)\n",
            "  File \"/usr/local/lib/python3.10/dist-packages/torch/nn/modules/module.py\", line 1747, in _call_impl\n",
            "    return forward_call(*args, **kwargs)\n",
            "  File \"/usr/local/lib/python3.10/dist-packages/torch/nn/modules/container.py\", line 250, in forward\n",
            "    input = module(input)\n",
            "  File \"/usr/local/lib/python3.10/dist-packages/torch/nn/modules/module.py\", line 1736, in _wrapped_call_impl\n",
            "    return self._call_impl(*args, **kwargs)\n",
            "  File \"/usr/local/lib/python3.10/dist-packages/torch/nn/modules/module.py\", line 1747, in _call_impl\n",
            "    return forward_call(*args, **kwargs)\n",
            "  File \"/usr/local/lib/python3.10/dist-packages/torch/nn/modules/conv.py\", line 554, in forward\n",
            "    return self._conv_forward(input, self.weight, self.bias)\n",
            "  File \"/usr/local/lib/python3.10/dist-packages/torch/nn/modules/conv.py\", line 549, in _conv_forward\n",
            "    return F.conv2d(\n",
            "KeyboardInterrupt\n",
            "\u001b[1;34mwandb\u001b[0m: 🚀 View run \u001b[33mtraining_run\u001b[0m at: \u001b[34mhttps://wandb.ai/lukavetoshkin/super_resolution/runs/gfa7h93w\u001b[0m\n",
            "\u001b[1;34mwandb\u001b[0m: Find logs at: \u001b[1;35mwandb/run-20241223_024616-gfa7h93w/logs\u001b[0m\n"
          ]
        }
      ]
    },
    {
      "cell_type": "code",
      "source": [
        "2"
      ],
      "metadata": {
        "id": "Lgp4WrMm6E_7"
      },
      "execution_count": null,
      "outputs": []
    }
  ]
}